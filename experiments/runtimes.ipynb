{
 "cells": [
  {
   "cell_type": "code",
   "execution_count": 3,
   "metadata": {},
   "outputs": [],
   "source": [
    "%reload_ext autoreload\n",
    "%autoreload 2"
   ]
  },
  {
   "cell_type": "code",
   "execution_count": 4,
   "metadata": {},
   "outputs": [],
   "source": [
    "from IPython.display import display, Markdown\n",
    "\n",
    "import sys\n",
    "sys.path.append('.')\n",
    "import time\n",
    "\n",
    "import numpy as np\n",
    "import matplotlib.pyplot as plt\n",
    "from matplotlib.lines import Line2D\n",
    "\n",
    "\n",
    "from util import (\n",
    "  draw_graphs as _draw_graphs,\n",
    "  plot_distance_heatmap,\n",
    "  plot_max_match_results\n",
    ")\n",
    "from pipeline import make_pipeline\n",
    "\n",
    "from mcopt import ot, MorseGraph"
   ]
  },
  {
   "cell_type": "code",
   "execution_count": 5,
   "metadata": {},
   "outputs": [],
   "source": [
    "pipeline = make_pipeline()"
   ]
  },
  {
   "cell_type": "code",
   "execution_count": 6,
   "metadata": {},
   "outputs": [
    {
     "name": "stdout",
     "output_type": "stream",
     "text": [
      "> [mmnetwork:heated_cylinder] config unchanged, loading\n"
     ]
    },
    {
     "name": "stderr",
     "output_type": "stream",
     "text": [
      "                                                                      \r"
     ]
    },
    {
     "name": "stdout",
     "output_type": "stream",
     "text": [
      "> [attributes:heated_cylinder] config unchanged, loading\n",
      "> [mmnetwork:red_sea] config unchanged, loading\n"
     ]
    },
    {
     "name": "stderr",
     "output_type": "stream",
     "text": [
      "                                                              \r"
     ]
    },
    {
     "name": "stdout",
     "output_type": "stream",
     "text": [
      "> [attributes:red_sea] config unchanged, loading\n",
      "> [mmnetwork:navier_stokes] config unchanged, loading\n"
     ]
    },
    {
     "name": "stderr",
     "output_type": "stream",
     "text": [
      "                                                             \r"
     ]
    },
    {
     "name": "stdout",
     "output_type": "stream",
     "text": [
      "> [attributes:navier_stokes] config unchanged, loading\n",
      "> [mmnetwork:tangaroa] config unchanged, loading\n"
     ]
    },
    {
     "name": "stderr",
     "output_type": "stream",
     "text": [
      "                                                              \r"
     ]
    },
    {
     "name": "stdout",
     "output_type": "stream",
     "text": [
      "> [attributes:tangaroa] config unchanged, loading\n",
      "> [mmnetwork:wind] config unchanged, loading\n"
     ]
    },
    {
     "name": "stderr",
     "output_type": "stream",
     "text": [
      "                                                              "
     ]
    },
    {
     "name": "stdout",
     "output_type": "stream",
     "text": [
      "> [attributes:wind] config unchanged, loading\n"
     ]
    },
    {
     "name": "stderr",
     "output_type": "stream",
     "text": [
      "\r"
     ]
    }
   ],
   "source": [
    "datasets = {\n",
    "  'heated_cylinder': dict(\n",
    "    src_t = 800, \n",
    "    dest_t = 879, \n",
    "    m_pfgw = 0.95,\n",
    "    m_pw = 0.95,\n",
    "    m_pgw = 0.9667\n",
    "  ),\n",
    "  'red_sea': dict(\n",
    "    src_t = 1,\n",
    "    dest_t = 4,\n",
    "    m_pfgw = 0.7375,\n",
    "    m_pw = 0.8125,\n",
    "    m_pgw = 0.85\n",
    "  ),\n",
    "  'navier_stokes': dict(\n",
    "    src_t = 1, \n",
    "    dest_t = 4,\n",
    "    m_pfgw = 0.8875,\n",
    "    m_pw = 0.85,\n",
    "    m_pgw = 0.9167\n",
    "  ),\n",
    "  'tangaroa': dict(\n",
    "    src_t = 51, \n",
    "    dest_t = 52,\n",
    "    m_pfgw = 0.925,\n",
    "    m_pw = 0.925,\n",
    "    m_pgw = 0.9167\n",
    "  ),\n",
    "  'wind': dict(\n",
    "    src_t = 1, \n",
    "    dest_t = 10,\n",
    "    m_pfgw = 0.8875,\n",
    "    m_pw = 0.85,\n",
    "    m_pgw = 0.75\n",
    "  ),\n",
    "}\n",
    "\n",
    "for name, dataset in datasets.items():\n",
    "  dataset['networks'] = pipeline.mm_network(name).build()\n",
    "  dataset['attributes'] = pipeline.attributes(name).build()"
   ]
  },
  {
   "cell_type": "code",
   "execution_count": 14,
   "metadata": {},
   "outputs": [],
   "source": [
    "num_runs = 100"
   ]
  },
  {
   "cell_type": "code",
   "execution_count": 15,
   "metadata": {},
   "outputs": [],
   "source": [
    "gw_runtimes = {}\n",
    "\n",
    "for name, dataset in datasets.items():\n",
    "  src_t = dataset['src_t']\n",
    "  dest_t = dataset['dest_t']\n",
    "  \n",
    "  src_net = dataset['networks'].frames[src_t]\n",
    "  dest_net = dataset['networks'].frames[dest_t]\n",
    "  \n",
    "  t0 = time.time()\n",
    "  \n",
    "  for _ in range(num_runs):\n",
    "    ot.GW(src_net, dest_net)\n",
    "  \n",
    "  t1 = time.time()\n",
    "  \n",
    "  total = t1 - t0\n",
    "  avg = total / num_runs\n",
    "  \n",
    "  gw_runtimes[name] = dict(total = total, avg = avg)"
   ]
  },
  {
   "cell_type": "code",
   "execution_count": 16,
   "metadata": {},
   "outputs": [
    {
     "data": {
      "text/plain": [
       "{'heated_cylinder': {'total': 1014.6101722717285, 'avg': 10.146101722717285},\n",
       " 'red_sea': {'total': 53.09311056137085, 'avg': 0.5309311056137085},\n",
       " 'navier_stokes': {'total': 27.753630876541138, 'avg': 0.27753630876541135},\n",
       " 'tangaroa': {'total': 37.33500123023987, 'avg': 0.37335001230239867},\n",
       " 'wind': {'total': 34.774120807647705, 'avg': 0.34774120807647707}}"
      ]
     },
     "execution_count": 16,
     "metadata": {},
     "output_type": "execute_result"
    }
   ],
   "source": [
    "gw_runtimes"
   ]
  },
  {
   "cell_type": "code",
   "execution_count": 17,
   "metadata": {},
   "outputs": [],
   "source": [
    "fgw_runtimes = {}\n",
    "\n",
    "for name, dataset in datasets.items():\n",
    "  src_t = dataset['src_t']\n",
    "  dest_t = dataset['dest_t']\n",
    "  \n",
    "  src_net = dataset['networks'].frames[src_t]\n",
    "  dest_net = dataset['networks'].frames[dest_t]\n",
    "  \n",
    "  attributes = dataset['attributes']\n",
    "  \n",
    "  M = attributes.attrs[attributes.index_map[src_t], attributes.index_map[dest_t]]\n",
    "  \n",
    "  t0 = time.time()\n",
    "  \n",
    "  for _ in range(num_runs):\n",
    "    ot.fGW(src_net, dest_net, M = M)\n",
    "  \n",
    "  t1 = time.time()\n",
    "  \n",
    "  total = t1 - t0\n",
    "  avg = total / num_runs\n",
    "  \n",
    "  fgw_runtimes[name] = dict(total = total, avg = avg)"
   ]
  },
  {
   "cell_type": "code",
   "execution_count": 18,
   "metadata": {},
   "outputs": [
    {
     "data": {
      "text/plain": [
       "{'heated_cylinder': {'total': 642.5448634624481, 'avg': 6.425448634624481},\n",
       " 'red_sea': {'total': 24.97797155380249, 'avg': 0.24977971553802492},\n",
       " 'navier_stokes': {'total': 13.031601667404175, 'avg': 0.13031601667404175},\n",
       " 'tangaroa': {'total': 35.05556893348694, 'avg': 0.35055568933486936},\n",
       " 'wind': {'total': 11.81725263595581, 'avg': 0.1181725263595581}}"
      ]
     },
     "execution_count": 18,
     "metadata": {},
     "output_type": "execute_result"
    }
   ],
   "source": [
    "fgw_runtimes"
   ]
  },
  {
   "cell_type": "code",
   "execution_count": 19,
   "metadata": {},
   "outputs": [],
   "source": [
    "w_runtimes = {}\n",
    "\n",
    "for name, dataset in datasets.items():\n",
    "  src_t = dataset['src_t']\n",
    "  dest_t = dataset['dest_t']\n",
    "  \n",
    "  src_net = dataset['networks'].frames[src_t]\n",
    "  dest_net = dataset['networks'].frames[dest_t]\n",
    "  \n",
    "  attributes = dataset['attributes']\n",
    "  \n",
    "  M = attributes.attrs[attributes.index_map[src_t], attributes.index_map[dest_t]]\n",
    "  \n",
    "  t0 = time.time()\n",
    "  \n",
    "  for _ in range(num_runs):\n",
    "    ot.Wasserstein(src_net, dest_net, M = M)\n",
    "  \n",
    "  t1 = time.time()\n",
    "  \n",
    "  total = t1 - t0\n",
    "  avg = total / num_runs\n",
    "  \n",
    "  w_runtimes[name] = dict(total = total, avg = avg)"
   ]
  },
  {
   "cell_type": "code",
   "execution_count": 20,
   "metadata": {},
   "outputs": [
    {
     "data": {
      "text/plain": [
       "{'heated_cylinder': {'total': 166.22519850730896, 'avg': 1.6622519850730897},\n",
       " 'red_sea': {'total': 18.340080499649048, 'avg': 0.18340080499649047},\n",
       " 'navier_stokes': {'total': 18.366689920425415, 'avg': 0.18366689920425416},\n",
       " 'tangaroa': {'total': 23.202397108078003, 'avg': 0.23202397108078002},\n",
       " 'wind': {'total': 8.073045253753662, 'avg': 0.08073045253753662}}"
      ]
     },
     "execution_count": 20,
     "metadata": {},
     "output_type": "execute_result"
    }
   ],
   "source": [
    "w_runtimes"
   ]
  },
  {
   "cell_type": "code",
   "execution_count": 21,
   "metadata": {},
   "outputs": [],
   "source": [
    "pfgw_runtimes = {}\n",
    "\n",
    "for name, dataset in datasets.items():\n",
    "  src_t = dataset['src_t']\n",
    "  dest_t = dataset['dest_t']\n",
    "  \n",
    "  src_net = dataset['networks'].frames[src_t]\n",
    "  dest_net = dataset['networks'].frames[dest_t]\n",
    "  \n",
    "  attributes = dataset['attributes']\n",
    "  \n",
    "  M = attributes.attrs[attributes.index_map[src_t], attributes.index_map[dest_t]]\n",
    "  m = dataset['m_pfgw']\n",
    "  \n",
    "  t0 = time.time()\n",
    "  \n",
    "  for _ in range(num_runs):\n",
    "    ot.pfGW(src_net, dest_net, M = M, m=m)\n",
    "  \n",
    "  t1 = time.time()\n",
    "  \n",
    "  total = t1 - t0\n",
    "  avg = total / num_runs\n",
    "  \n",
    "  pfgw_runtimes[name] = dict(total = total, avg = avg)"
   ]
  },
  {
   "cell_type": "code",
   "execution_count": 22,
   "metadata": {},
   "outputs": [
    {
     "data": {
      "text/plain": [
       "{'heated_cylinder': {'total': 512.3025839328766, 'avg': 5.123025839328766},\n",
       " 'red_sea': {'total': 28.605802059173584, 'avg': 0.28605802059173585},\n",
       " 'navier_stokes': {'total': 17.832030296325684, 'avg': 0.17832030296325685},\n",
       " 'tangaroa': {'total': 29.30567193031311, 'avg': 0.2930567193031311},\n",
       " 'wind': {'total': 9.839390754699707, 'avg': 0.09839390754699708}}"
      ]
     },
     "execution_count": 22,
     "metadata": {},
     "output_type": "execute_result"
    }
   ],
   "source": [
    "pfgw_runtimes"
   ]
  },
  {
   "cell_type": "code",
   "execution_count": 23,
   "metadata": {},
   "outputs": [
    {
     "data": {
      "text/plain": [
       "120792.5610797684"
      ]
     },
     "execution_count": 23,
     "metadata": {},
     "output_type": "execute_result"
    }
   ],
   "source": [
    "dataset = datasets['heated_cylinder']\n",
    "attributes = dataset['attributes']\n",
    "\n",
    "M = attributes.attrs[attributes.index_map[800], attributes.index_map[879]]\n",
    "\n",
    "M.sum()"
   ]
  },
  {
   "cell_type": "code",
   "execution_count": 28,
   "metadata": {},
   "outputs": [
    {
     "name": "stdout",
     "output_type": "stream",
     "text": [
      "heated_cylinder\n",
      "red_sea\n",
      "navier_stokes\n",
      "tangaroa\n",
      "wind\n"
     ]
    }
   ],
   "source": [
    "pw_runtimes = {}\n",
    "\n",
    "for name, dataset in datasets.items():\n",
    "  src_t = dataset['src_t']\n",
    "  dest_t = dataset['dest_t']\n",
    "  \n",
    "  src_net = dataset['networks'].frames[src_t]\n",
    "  dest_net = dataset['networks'].frames[dest_t]\n",
    "  \n",
    "  attributes = dataset['attributes']\n",
    "  \n",
    "  M = attributes.attrs[attributes.index_map[src_t], attributes.index_map[dest_t]]\n",
    "  m = dataset['m_pw']\n",
    "  \n",
    "  t0 = time.time()\n",
    "  \n",
    "  for _ in range(num_runs):\n",
    "    ot.pWasserstein(src_net, dest_net, M = M, m=m)\n",
    "  \n",
    "  t1 = time.time()\n",
    "  \n",
    "  total = t1 - t0\n",
    "  avg = total / num_runs\n",
    "  \n",
    "  pw_runtimes[name] = dict(total = total, avg = avg)"
   ]
  },
  {
   "cell_type": "code",
   "execution_count": 25,
   "metadata": {},
   "outputs": [
    {
     "data": {
      "text/plain": [
       "{'heated_cylinder': {'total': 152.8492341041565, 'avg': 1.528492341041565},\n",
       " 'red_sea': {'total': 23.058550357818604, 'avg': 0.23058550357818602},\n",
       " 'navier_stokes': {'total': 13.24488115310669, 'avg': 0.13244881153106688},\n",
       " 'tangaroa': {'total': 21.563406467437744, 'avg': 0.21563406467437743},\n",
       " 'wind': {'total': 13.741454124450684, 'avg': 0.13741454124450683}}"
      ]
     },
     "execution_count": 25,
     "metadata": {},
     "output_type": "execute_result"
    }
   ],
   "source": [
    "pw_runtimes"
   ]
  },
  {
   "cell_type": "code",
   "execution_count": 26,
   "metadata": {},
   "outputs": [],
   "source": [
    "pgw_runtimes = {}\n",
    "\n",
    "for name, dataset in datasets.items():\n",
    "  src_t = dataset['dest_t']\n",
    "  dest_t = dataset['dest_t']\n",
    "  \n",
    "  src_net = dataset['networks'].frames[src_t]\n",
    "  dest_net = dataset['networks'].frames[dest_t]\n",
    "  \n",
    "  \n",
    "  m = dataset['m_pgw']\n",
    "  \n",
    "  t0 = time.time()\n",
    "  \n",
    "  for _ in range(num_runs):\n",
    "    ot.pGW(src_net, dest_net, m=m)\n",
    "  \n",
    "  t1 = time.time()\n",
    "  \n",
    "  total = t1 - t0\n",
    "  avg = total / num_runs\n",
    "  \n",
    "  pgw_runtimes[name] = dict(total = total, avg = avg)"
   ]
  },
  {
   "cell_type": "code",
   "execution_count": 27,
   "metadata": {},
   "outputs": [
    {
     "data": {
      "text/plain": [
       "{'heated_cylinder': {'total': 177.58443665504456, 'avg': 1.7758443665504455},\n",
       " 'red_sea': {'total': 28.284102201461792, 'avg': 0.2828410220146179},\n",
       " 'navier_stokes': {'total': 14.583408117294312, 'avg': 0.1458340811729431},\n",
       " 'tangaroa': {'total': 25.238882064819336, 'avg': 0.25238882064819335},\n",
       " 'wind': {'total': 12.868221998214722, 'avg': 0.1286822199821472}}"
      ]
     },
     "execution_count": 27,
     "metadata": {},
     "output_type": "execute_result"
    }
   ],
   "source": [
    "pgw_runtimes"
   ]
  },
  {
   "cell_type": "code",
   "execution_count": 29,
   "metadata": {},
   "outputs": [],
   "source": [
    "import pandas as pd"
   ]
  },
  {
   "cell_type": "code",
   "execution_count": 47,
   "metadata": {},
   "outputs": [
    {
     "data": {
      "text/html": [
       "<div>\n",
       "<style scoped>\n",
       "    .dataframe tbody tr th:only-of-type {\n",
       "        vertical-align: middle;\n",
       "    }\n",
       "\n",
       "    .dataframe tbody tr th {\n",
       "        vertical-align: top;\n",
       "    }\n",
       "\n",
       "    .dataframe thead th {\n",
       "        text-align: right;\n",
       "    }\n",
       "</style>\n",
       "<table border=\"1\" class=\"dataframe\">\n",
       "  <thead>\n",
       "    <tr style=\"text-align: right;\">\n",
       "      <th></th>\n",
       "      <th>gw total (s)</th>\n",
       "      <th>gw average (s)</th>\n",
       "      <th>fgw total (s)</th>\n",
       "      <th>fgw average (s)</th>\n",
       "      <th>wasserstein total (s)</th>\n",
       "      <th>wasserstein average (s)</th>\n",
       "      <th>pfGW total (s)</th>\n",
       "      <th>pfGW average (s)</th>\n",
       "      <th>pGW total (s)</th>\n",
       "      <th>pGW average (s)</th>\n",
       "      <th>pW total (s)</th>\n",
       "      <th>pW average (s)</th>\n",
       "    </tr>\n",
       "  </thead>\n",
       "  <tbody>\n",
       "    <tr>\n",
       "      <th>heated_cylinder</th>\n",
       "      <td>1014.610172</td>\n",
       "      <td>10.146102</td>\n",
       "      <td>642.544863</td>\n",
       "      <td>6.425449</td>\n",
       "      <td>166.225199</td>\n",
       "      <td>1.662252</td>\n",
       "      <td>512.302584</td>\n",
       "      <td>5.123026</td>\n",
       "      <td>177.584437</td>\n",
       "      <td>1.775844</td>\n",
       "      <td>145.103498</td>\n",
       "      <td>1.451035</td>\n",
       "    </tr>\n",
       "    <tr>\n",
       "      <th>red_sea</th>\n",
       "      <td>53.093111</td>\n",
       "      <td>0.530931</td>\n",
       "      <td>24.977972</td>\n",
       "      <td>0.249780</td>\n",
       "      <td>18.340080</td>\n",
       "      <td>0.183401</td>\n",
       "      <td>28.605802</td>\n",
       "      <td>0.286058</td>\n",
       "      <td>28.284102</td>\n",
       "      <td>0.282841</td>\n",
       "      <td>16.576731</td>\n",
       "      <td>0.165767</td>\n",
       "    </tr>\n",
       "    <tr>\n",
       "      <th>navier_stokes</th>\n",
       "      <td>27.753631</td>\n",
       "      <td>0.277536</td>\n",
       "      <td>13.031602</td>\n",
       "      <td>0.130316</td>\n",
       "      <td>18.366690</td>\n",
       "      <td>0.183667</td>\n",
       "      <td>17.832030</td>\n",
       "      <td>0.178320</td>\n",
       "      <td>14.583408</td>\n",
       "      <td>0.145834</td>\n",
       "      <td>11.762072</td>\n",
       "      <td>0.117621</td>\n",
       "    </tr>\n",
       "    <tr>\n",
       "      <th>tangaroa</th>\n",
       "      <td>37.335001</td>\n",
       "      <td>0.373350</td>\n",
       "      <td>35.055569</td>\n",
       "      <td>0.350556</td>\n",
       "      <td>23.202397</td>\n",
       "      <td>0.232024</td>\n",
       "      <td>29.305672</td>\n",
       "      <td>0.293057</td>\n",
       "      <td>25.238882</td>\n",
       "      <td>0.252389</td>\n",
       "      <td>20.935448</td>\n",
       "      <td>0.209354</td>\n",
       "    </tr>\n",
       "    <tr>\n",
       "      <th>wind</th>\n",
       "      <td>34.774121</td>\n",
       "      <td>0.347741</td>\n",
       "      <td>11.817253</td>\n",
       "      <td>0.118173</td>\n",
       "      <td>8.073045</td>\n",
       "      <td>0.080730</td>\n",
       "      <td>9.839391</td>\n",
       "      <td>0.098394</td>\n",
       "      <td>12.868222</td>\n",
       "      <td>0.128682</td>\n",
       "      <td>7.915257</td>\n",
       "      <td>0.079153</td>\n",
       "    </tr>\n",
       "  </tbody>\n",
       "</table>\n",
       "</div>"
      ],
      "text/plain": [
       "                 gw total (s)  gw average (s)  fgw total (s)  fgw average (s)   \n",
       "heated_cylinder   1014.610172       10.146102     642.544863         6.425449  \\\n",
       "red_sea             53.093111        0.530931      24.977972         0.249780   \n",
       "navier_stokes       27.753631        0.277536      13.031602         0.130316   \n",
       "tangaroa            37.335001        0.373350      35.055569         0.350556   \n",
       "wind                34.774121        0.347741      11.817253         0.118173   \n",
       "\n",
       "                 wasserstein total (s)  wasserstein average (s)   \n",
       "heated_cylinder             166.225199                 1.662252  \\\n",
       "red_sea                      18.340080                 0.183401   \n",
       "navier_stokes                18.366690                 0.183667   \n",
       "tangaroa                     23.202397                 0.232024   \n",
       "wind                          8.073045                 0.080730   \n",
       "\n",
       "                 pfGW total (s)  pfGW average (s)  pGW total (s)   \n",
       "heated_cylinder      512.302584          5.123026     177.584437  \\\n",
       "red_sea               28.605802          0.286058      28.284102   \n",
       "navier_stokes         17.832030          0.178320      14.583408   \n",
       "tangaroa              29.305672          0.293057      25.238882   \n",
       "wind                   9.839391          0.098394      12.868222   \n",
       "\n",
       "                 pGW average (s)  pW total (s)  pW average (s)  \n",
       "heated_cylinder         1.775844    145.103498        1.451035  \n",
       "red_sea                 0.282841     16.576731        0.165767  \n",
       "navier_stokes           0.145834     11.762072        0.117621  \n",
       "tangaroa                0.252389     20.935448        0.209354  \n",
       "wind                    0.128682      7.915257        0.079153  "
      ]
     },
     "execution_count": 47,
     "metadata": {},
     "output_type": "execute_result"
    }
   ],
   "source": [
    "data = pd.concat([\n",
    "  pd.DataFrame.from_dict(gw_runtimes, orient='index').rename(columns={'total': 'gw total (s)', 'avg': 'gw average (s)'}),\n",
    "  pd.DataFrame.from_dict(fgw_runtimes, orient='index').rename(columns={'total': 'fgw total (s)', 'avg': 'fgw average (s)'}),\n",
    "  pd.DataFrame.from_dict(w_runtimes, orient='index').rename(columns={'total': 'wasserstein total (s)', 'avg': 'wasserstein average (s)'}),\n",
    "  pd.DataFrame.from_dict(pfgw_runtimes, orient='index').rename(columns={'total': 'pfGW total (s)', 'avg': 'pfGW average (s)'}),\n",
    "  pd.DataFrame.from_dict(pgw_runtimes, orient='index').rename(columns={'total': 'pGW total (s)', 'avg': 'pGW average (s)'}),\n",
    "  pd.DataFrame.from_dict(pw_runtimes, orient='index').rename(columns={'total': 'pW total (s)', 'avg': 'pW average (s)'}),\n",
    "], axis=1)\n",
    "\n",
    "data"
   ]
  },
  {
   "cell_type": "code",
   "execution_count": 49,
   "metadata": {},
   "outputs": [],
   "source": [
    "data.to_csv('timing.csv')"
   ]
  },
  {
   "cell_type": "code",
   "execution_count": 11,
   "metadata": {},
   "outputs": [
    {
     "name": "stdout",
     "output_type": "stream",
     "text": [
      "heated_cylinder-800: 601\n",
      "heated_cylinder-879: 575\n",
      "red_sea-1: 135\n",
      "red_sea-4: 171\n",
      "navier_stokes-1: 116\n",
      "navier_stokes-4: 130\n",
      "tangaroa-51: 189\n",
      "tangaroa-52: 180\n",
      "wind-1: 83\n",
      "wind-10: 99\n"
     ]
    }
   ],
   "source": [
    "for name, dataset in datasets.items():\n",
    "  src_t = dataset['src_t']\n",
    "  src_net = dataset['networks'].frames[src_t]\n",
    "  \n",
    "  dest_t = dataset['dest_t']\n",
    "  dest_net = dataset['networks'].frames[dest_t]\n",
    "  \n",
    "  print(f'{name}-{src_t}: {len(src_net.space)}')\n",
    "  print(f'{name}-{dest_t}: {len(dest_net.space)}')"
   ]
  }
 ],
 "metadata": {
  "kernelspec": {
   "display_name": ".venv",
   "language": "python",
   "name": "python3"
  },
  "language_info": {
   "codemirror_mode": {
    "name": "ipython",
    "version": 3
   },
   "file_extension": ".py",
   "mimetype": "text/x-python",
   "name": "python",
   "nbconvert_exporter": "python",
   "pygments_lexer": "ipython3",
   "version": "3.10.6"
  },
  "orig_nbformat": 4
 },
 "nbformat": 4,
 "nbformat_minor": 2
}
