{
 "cells": [
  {
   "cell_type": "code",
   "execution_count": 2,
   "metadata": {},
   "outputs": [],
   "source": [
    "%reload_ext autoreload\n",
    "%autoreload 2"
   ]
  },
  {
   "cell_type": "code",
   "execution_count": 3,
   "metadata": {},
   "outputs": [],
   "source": [
    "from IPython.display import display, Markdown\n",
    "\n",
    "import sys\n",
    "sys.path.append('.')\n",
    "\n",
    "from util import (\n",
    "  draw_graphs as _draw_graphs\n",
    ")\n",
    "from pipeline import make_pipeline\n",
    "\n",
    "from mcopt import ot, MorseGraph\n",
    "\n",
    "import numpy as np\n",
    "import matplotlib as mpl\n",
    "import matplotlib.pyplot as plt\n",
    "from sklearn.manifold import MDS\n",
    "from sklearn.neighbors import KNeighborsClassifier\n",
    "from sklearn.model_selection import train_test_split\n",
    "from scipy.spatial import ConvexHull"
   ]
  },
  {
   "cell_type": "code",
   "execution_count": 4,
   "metadata": {},
   "outputs": [
    {
     "data": {
      "text/markdown": [
       "\n",
       "# Binary Gaussian Simple\n",
       "\n",
       "\n",
       "A toy example in which 2 gaussian functions with $\\sigma = 5$ are placed\n",
       "in the center.\n",
       "\n",
       "There are 100 frames which each rotate the gaussian's roughly 3 degrees.\n",
       " \n"
      ],
      "text/plain": [
       "<IPython.core.display.Markdown object>"
      ]
     },
     "metadata": {},
     "output_type": "display_data"
    },
    {
     "data": {
      "text/markdown": [
       "\n",
       "# Trinary Gaussian Simple\n",
       "\n",
       "\n",
       "A toy example in which 3 gaussian functions with $\\sigma = 5$ are placed\n",
       "in the center.\n",
       "\n",
       "There are 100 frames which each rotate the gaussian's roughly 3 degrees.\n",
       " \n"
      ],
      "text/plain": [
       "<IPython.core.display.Markdown object>"
      ]
     },
     "metadata": {},
     "output_type": "display_data"
    }
   ],
   "source": [
    "pipeline = make_pipeline()\n",
    "\n",
    "bi_simple = pipeline.dataset('binary_gaussian_simple')\n",
    "tri_simple = pipeline.dataset('trinary_gaussian_simple')\n",
    "\n",
    "display(Markdown(bi_simple.display_description()))\n",
    "display(Markdown(tri_simple.display_description()))"
   ]
  },
  {
   "cell_type": "code",
   "execution_count": 5,
   "metadata": {},
   "outputs": [
    {
     "name": "stdout",
     "output_type": "stream",
     "text": [
      "> [graph:gaussian_simple] building\n"
     ]
    },
    {
     "name": "stderr",
     "output_type": "stream",
     "text": [
      "                                                                     "
     ]
    },
    {
     "name": "stdout",
     "output_type": "stream",
     "text": [
      "  saving to /workspaces/MCOpt/experiments/__pipeline_cache__/graph/gaussian_simple\n",
      "> [mds:gaussian_simple_gw] config unchanged, loading\n",
      "> [mds:gaussian_simple_fgw] config unchanged, loading\n",
      "> [mds:gaussian_simple_wasserstein] config unchanged, loading\n"
     ]
    },
    {
     "name": "stderr",
     "output_type": "stream",
     "text": [
      "\r"
     ]
    }
   ],
   "source": [
    "graphs = pipeline.graph('gaussian_simple').build()\n",
    "mds_gw = pipeline.mds('gaussian_simple_gw').build()\n",
    "mds_fgw = pipeline.mds('gaussian_simple_fgw').build()\n",
    "mds_wasserstein = pipeline.mds('gaussian_simple_wasserstein').build()"
   ]
  },
  {
   "cell_type": "code",
   "execution_count": 6,
   "metadata": {},
   "outputs": [
    {
     "name": "stdout",
     "output_type": "stream",
     "text": [
      "> [couplings:gaussian_simple_gw] config unchanged, loading\n"
     ]
    }
   ],
   "source": [
    "gw = pipeline.couplings('gaussian_simple_gw').build()\n"
   ]
  },
  {
   "cell_type": "code",
   "execution_count": null,
   "metadata": {},
   "outputs": [],
   "source": []
  },
  {
   "cell_type": "code",
   "execution_count": 7,
   "metadata": {},
   "outputs": [
    {
     "data": {
      "text/plain": [
       "1.0"
      ]
     },
     "execution_count": 7,
     "metadata": {},
     "output_type": "execute_result"
    }
   ],
   "source": [
    "train_prop = 0.05\n",
    "\n",
    "bi_is = np.asarray(list(graphs.index_map[0].values()))\n",
    "\n",
    "bi_train_is, bi_test_is = train_test_split(bi_is, train_size=train_prop, random_state=42)\n",
    "\n",
    "tri_is = np.asarray(list(graphs.index_map[1].values()))\n",
    "\n",
    "tri_train_is, tri_test_is = train_test_split(tri_is, train_size=train_prop, random_state=42)\n",
    "\n",
    "train_is = np.hstack([bi_train_is, tri_train_is])\n",
    "test_is = np.hstack([bi_test_is, tri_test_is])\n",
    "\n",
    "nearest_neighbors = KNeighborsClassifier(metric='precomputed')\n",
    "\n",
    "X_train = gw.distances[train_is, :][:, train_is]\n",
    "Y_train = np.where([i in bi_is for i in train_is], 0, 1)\n",
    "\n",
    "X_test = gw.distances[test_is, :][:, train_is]\n",
    "Y_test = np.where([i in bi_is for i in test_is], 0, 1)\n",
    "\n",
    "nearest_neighbors.fit(X_train, Y_train)\n",
    "\n",
    "nearest_neighbors.score(X_test, Y_test)"
   ]
  },
  {
   "cell_type": "code",
   "execution_count": 60,
   "metadata": {},
   "outputs": [
    {
     "data": {
      "text/plain": [
       "1.0"
      ]
     },
     "execution_count": 60,
     "metadata": {},
     "output_type": "execute_result"
    }
   ],
   "source": [
    "X = gw.distances[:, train_is]\n",
    "Y_true = np.where([i in bi_is for i in range(200)], 0, 1)\n",
    "\n",
    "nearest_neighbors.score(X, Y_true)"
   ]
  },
  {
   "cell_type": "code",
   "execution_count": 8,
   "metadata": {},
   "outputs": [],
   "source": [
    "\n",
    "Y = nearest_neighbors.predict(X)\n",
    "\n",
    "bi_pred = np.argwhere(Y == 0).ravel()\n",
    "tri_pred = np.argwhere(Y == 1).ravel()"
   ]
  },
  {
   "cell_type": "code",
   "execution_count": 50,
   "metadata": {},
   "outputs": [],
   "source": [
    "transform = mds_gw.transform\n",
    "\n",
    "bi_hull = ConvexHull(transform[bi_pred])\n",
    "tri_hull = ConvexHull(transform[tri_pred])"
   ]
  },
  {
   "cell_type": "code",
   "execution_count": 53,
   "metadata": {},
   "outputs": [
    {
     "data": {
      "text/plain": [
       "Text(0.5, 1.0, 'GW')"
      ]
     },
     "execution_count": 53,
     "metadata": {},
     "output_type": "execute_result"
    },
    {
     "data": {
      "image/png": "[encoded data removed]",
      "text/plain": [
       "<Figure size 640x480 with 1 Axes>"
      ]
     },
     "metadata": {},
     "output_type": "display_data"
    }
   ],
   "source": [
    "fig, ax = plt.subplots()\n",
    "\n",
    "markers = ['o', 'x']\n",
    "colors = ['blue', 'red']\n",
    "labels = ['Simple Binary Gaussian', 'Simple Trinary Gaussian',]\n",
    "\n",
    "bi_hull_points = transform[bi_pred][bi_hull.vertices]\n",
    "ax.fill(bi_hull_points[:, 0], bi_hull_points[:, 1], c=colors[0], alpha=0.10)\n",
    "\n",
    "tri_hull_points = transform[tri_pred][tri_hull.vertices]\n",
    "ax.fill(tri_hull_points[:, 0], tri_hull_points[:, 1], c=colors[1], alpha=0.10)\n",
    "\n",
    "for i, (class_transform, marker, color, label) in enumerate(zip(mds_gw.class_transforms, markers, colors, labels)):\n",
    "  ax.scatter(\n",
    "    class_transform[:, 0], \n",
    "    class_transform[:, 1], \n",
    "    marker=marker, \n",
    "    c=color, \n",
    "    label=label\n",
    "  )\n",
    "  \n",
    "ax.legend()\n",
    "ax.set_title('GW')"
   ]
  }
 ],
 "metadata": {
  "kernelspec": {
   "display_name": ".venv",
   "language": "python",
   "name": "python3"
  },
  "language_info": {
   "codemirror_mode": {
    "name": "ipython",
    "version": 3
   },
   "file_extension": ".py",
   "mimetype": "text/x-python",
   "name": "python",
   "nbconvert_exporter": "python",
   "pygments_lexer": "ipython3",
   "version": "3.10.6"
  },
  "orig_nbformat": 4
 },
 "nbformat": 4,
 "nbformat_minor": 2
}
