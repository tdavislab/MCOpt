{
 "cells": [
  {
   "attachments": {},
   "cell_type": "markdown",
   "metadata": {},
   "source": [
    "# Sinusoidal Experiments\n",
    "\n",
    "This notebook contains our experiments for the Sinusoidal dataset.\n",
    "\n",
    "## Table of Contents\n",
    "1. [Configuration](#configuration)\n",
    "\n",
    "2. [Preprocessing](#preprocessing)\n",
    "\n",
    "    1. [Setup Dataset](#setup-dataset)\n",
    "\n",
    "    2. [Compute Persistence Threshold](#compute-persistence-threshold)\n",
    "\n",
    "    3. [Compute Morse Complex](#compute-morse-complex)\n",
    "    \n",
    "    4. [Compute Morse Graph](#compute-morse-graph)\n",
    "    "
   ]
  },
  {
   "cell_type": "code",
   "execution_count": 1,
   "metadata": {},
   "outputs": [],
   "source": [
    "%reload_ext autoreload\n",
    "%autoreload 2"
   ]
  },
  {
   "cell_type": "code",
   "execution_count": 2,
   "metadata": {},
   "outputs": [],
   "source": [
    "from IPython.display import display\n",
    "from IPython.core.display import Markdown\n",
    "from pathlib import Path\n",
    "import os\n",
    "\n",
    "from mcpipeline.datasets import Sinusoidal\n",
    "from mcpipeline import Plotter\n",
    "\n",
    "import globals"
   ]
  },
  {
   "cell_type": "markdown",
   "metadata": {},
   "source": [
    "## Configuration"
   ]
  },
  {
   "cell_type": "code",
   "execution_count": 3,
   "metadata": {},
   "outputs": [],
   "source": [
    "output_path = Path('out')\n",
    "\n",
    "plotter = Plotter(\n",
    "    save_fig_kwargs=dict(\n",
    "        dpi = 300,\n",
    "        bbox_inches = 'tight',\n",
    "    )\n",
    ")\n",
    "\n",
    "# The chosen persistence threshold\n",
    "p_thresh = 0.1"
   ]
  },
  {
   "attachments": {},
   "cell_type": "markdown",
   "metadata": {},
   "source": [
    "## Preprocessing"
   ]
  },
  {
   "cell_type": "markdown",
   "metadata": {},
   "source": [
    "\n",
    "### Setup Dataset"
   ]
  },
  {
   "cell_type": "code",
   "execution_count": 4,
   "metadata": {},
   "outputs": [
    {
     "data": {
      "text/markdown": [
       "# Sinusoidal\n",
       "TODO"
      ],
      "text/plain": [
       "<IPython.core.display.Markdown object>"
      ]
     },
     "metadata": {},
     "output_type": "display_data"
    }
   ],
   "source": [
    "src_t = 0\n",
    "\n",
    "dataset = Sinusoidal()\n",
    "\n",
    "display(Markdown(dataset.description))\n",
    "\n",
    "dataset.save(output_path / 'datasets' / dataset.sanitized_name)"
   ]
  },
  {
   "attachments": {},
   "cell_type": "markdown",
   "metadata": {},
   "source": [
    "### Compute Persistence Threshold"
   ]
  },
  {
   "cell_type": "code",
   "execution_count": 5,
   "metadata": {},
   "outputs": [
    {
     "name": "stdout",
     "output_type": "stream",
     "text": [
      "________________________________________________________________________________\n",
      "[Memory] Calling mcpipeline.topo.p_curve...\n",
      "p_curve(<mcpipeline.vtk.data.VTKData object at 0x7f1fb44137c0>, table=0)\n"
     ]
    },
    {
     "ename": "ImportError",
     "evalue": "Initialization failed for ttkWRLExporter, not compatible with vtkmodules.vtkFiltersCore",
     "output_type": "error",
     "traceback": [
      "\u001b[0;31m---------------------------------------------------------------------------\u001b[0m",
      "\u001b[0;31mImportError\u001b[0m                               Traceback (most recent call last)",
      "Cell \u001b[0;32mIn[5], line 1\u001b[0m\n\u001b[0;32m----> 1\u001b[0m p_curves \u001b[39m=\u001b[39m dataset\u001b[39m.\u001b[39;49mp_curves()\n",
      "File \u001b[0;32m/workspaces/MCOpt/experiments/mcpipeline/mcpipeline/datasets/dataset.py:93\u001b[0m, in \u001b[0;36mDataset.p_curves\u001b[0;34m(self)\u001b[0m\n\u001b[1;32m     92\u001b[0m \u001b[39mdef\u001b[39;00m \u001b[39mp_curves\u001b[39m(\u001b[39mself\u001b[39m) \u001b[39m-\u001b[39m\u001b[39m>\u001b[39m Dict[\u001b[39mint\u001b[39m, Curve]:\n\u001b[0;32m---> 93\u001b[0m     \u001b[39mreturn\u001b[39;00m {t: p_curve(dat, table\u001b[39m=\u001b[39m\u001b[39m0\u001b[39m) \u001b[39mfor\u001b[39;00m t, dat \u001b[39min\u001b[39;00m \u001b[39mself\u001b[39m\u001b[39m.\u001b[39mitems()}\n",
      "File \u001b[0;32m/workspaces/MCOpt/experiments/mcpipeline/mcpipeline/datasets/dataset.py:93\u001b[0m, in \u001b[0;36m<dictcomp>\u001b[0;34m(.0)\u001b[0m\n\u001b[1;32m     92\u001b[0m \u001b[39mdef\u001b[39;00m \u001b[39mp_curves\u001b[39m(\u001b[39mself\u001b[39m) \u001b[39m-\u001b[39m\u001b[39m>\u001b[39m Dict[\u001b[39mint\u001b[39m, Curve]:\n\u001b[0;32m---> 93\u001b[0m     \u001b[39mreturn\u001b[39;00m {t: p_curve(dat, table\u001b[39m=\u001b[39;49m\u001b[39m0\u001b[39;49m) \u001b[39mfor\u001b[39;00m t, dat \u001b[39min\u001b[39;00m \u001b[39mself\u001b[39m\u001b[39m.\u001b[39mitems()}\n",
      "File \u001b[0;32m~/.venv/lib/python3.9/site-packages/joblib/memory.py:655\u001b[0m, in \u001b[0;36mMemorizedFunc.__call__\u001b[0;34m(self, *args, **kwargs)\u001b[0m\n\u001b[1;32m    654\u001b[0m \u001b[39mdef\u001b[39;00m \u001b[39m__call__\u001b[39m(\u001b[39mself\u001b[39m, \u001b[39m*\u001b[39margs, \u001b[39m*\u001b[39m\u001b[39m*\u001b[39mkwargs):\n\u001b[0;32m--> 655\u001b[0m     \u001b[39mreturn\u001b[39;00m \u001b[39mself\u001b[39;49m\u001b[39m.\u001b[39;49m_cached_call(args, kwargs)[\u001b[39m0\u001b[39m]\n",
      "File \u001b[0;32m~/.venv/lib/python3.9/site-packages/joblib/memory.py:598\u001b[0m, in \u001b[0;36mMemorizedFunc._cached_call\u001b[0;34m(self, args, kwargs, shelving)\u001b[0m\n\u001b[1;32m    595\u001b[0m     must_call \u001b[39m=\u001b[39m \u001b[39mTrue\u001b[39;00m\n\u001b[1;32m    597\u001b[0m \u001b[39mif\u001b[39;00m must_call:\n\u001b[0;32m--> 598\u001b[0m     out, metadata \u001b[39m=\u001b[39m \u001b[39mself\u001b[39;49m\u001b[39m.\u001b[39;49mcall(\u001b[39m*\u001b[39;49margs, \u001b[39m*\u001b[39;49m\u001b[39m*\u001b[39;49mkwargs)\n\u001b[1;32m    599\u001b[0m     \u001b[39mif\u001b[39;00m \u001b[39mself\u001b[39m\u001b[39m.\u001b[39mmmap_mode \u001b[39mis\u001b[39;00m \u001b[39mnot\u001b[39;00m \u001b[39mNone\u001b[39;00m:\n\u001b[1;32m    600\u001b[0m         \u001b[39m# Memmap the output at the first call to be consistent with\u001b[39;00m\n\u001b[1;32m    601\u001b[0m         \u001b[39m# later calls\u001b[39;00m\n\u001b[1;32m    602\u001b[0m         \u001b[39mif\u001b[39;00m \u001b[39mself\u001b[39m\u001b[39m.\u001b[39m_verbose:\n",
      "File \u001b[0;32m~/.venv/lib/python3.9/site-packages/joblib/memory.py:856\u001b[0m, in \u001b[0;36mMemorizedFunc.call\u001b[0;34m(self, *args, **kwargs)\u001b[0m\n\u001b[1;32m    854\u001b[0m \u001b[39mif\u001b[39;00m \u001b[39mself\u001b[39m\u001b[39m.\u001b[39m_verbose \u001b[39m>\u001b[39m \u001b[39m0\u001b[39m:\n\u001b[1;32m    855\u001b[0m     \u001b[39mprint\u001b[39m(format_call(\u001b[39mself\u001b[39m\u001b[39m.\u001b[39mfunc, args, kwargs))\n\u001b[0;32m--> 856\u001b[0m output \u001b[39m=\u001b[39m \u001b[39mself\u001b[39;49m\u001b[39m.\u001b[39;49mfunc(\u001b[39m*\u001b[39;49margs, \u001b[39m*\u001b[39;49m\u001b[39m*\u001b[39;49mkwargs)\n\u001b[1;32m    857\u001b[0m \u001b[39mself\u001b[39m\u001b[39m.\u001b[39mstore_backend\u001b[39m.\u001b[39mdump_item(\n\u001b[1;32m    858\u001b[0m     [func_id, args_id], output, verbose\u001b[39m=\u001b[39m\u001b[39mself\u001b[39m\u001b[39m.\u001b[39m_verbose)\n\u001b[1;32m    860\u001b[0m duration \u001b[39m=\u001b[39m time\u001b[39m.\u001b[39mtime() \u001b[39m-\u001b[39m start_time\n",
      "File \u001b[0;32m/workspaces/MCOpt/experiments/mcpipeline/mcpipeline/topo.py:22\u001b[0m, in \u001b[0;36mp_curve\u001b[0;34m(data, table)\u001b[0m\n\u001b[1;32m     20\u001b[0m \u001b[39m@cache\u001b[39m\u001b[39m.\u001b[39mcache\n\u001b[1;32m     21\u001b[0m \u001b[39mdef\u001b[39;00m \u001b[39mp_curve\u001b[39m(data: VTKData, table: \u001b[39mint\u001b[39m \u001b[39m=\u001b[39m \u001b[39m0\u001b[39m) \u001b[39m-\u001b[39m\u001b[39m>\u001b[39m Curve:\n\u001b[0;32m---> 22\u001b[0m     \u001b[39mfrom\u001b[39;00m \u001b[39mtopologytoolkit\u001b[39;00m \u001b[39mimport\u001b[39;00m ttkPersistenceCurve  \u001b[39m# type: ignore\u001b[39;00m\n\u001b[1;32m     24\u001b[0m     tetra \u001b[39m=\u001b[39m vtkDataSetTriangleFilter()\n\u001b[1;32m     25\u001b[0m     tetra\u001b[39m.\u001b[39mSetInputConnection(data\u001b[39m.\u001b[39mconn())\n",
      "File \u001b[0;32m/usr/local/lib/python3.9/site-packages/topologytoolkit/__init__.py:2\u001b[0m\n\u001b[1;32m      1\u001b[0m \u001b[39mfrom\u001b[39;00m \u001b[39m__future__\u001b[39;00m \u001b[39mimport\u001b[39;00m absolute_import\n\u001b[0;32m----> 2\u001b[0m \u001b[39mfrom\u001b[39;00m \u001b[39m.\u001b[39;00m\u001b[39mttkWRLExporter\u001b[39;00m \u001b[39mimport\u001b[39;00m \u001b[39m*\u001b[39m\n\u001b[1;32m      3\u001b[0m \u001b[39mfrom\u001b[39;00m \u001b[39m.\u001b[39;00m\u001b[39mttkUserInterfaceBase\u001b[39;00m \u001b[39mimport\u001b[39;00m \u001b[39m*\u001b[39m\n\u001b[1;32m      4\u001b[0m \u001b[39mfrom\u001b[39;00m \u001b[39m.\u001b[39;00m\u001b[39mttkUncertainDataEstimator\u001b[39;00m \u001b[39mimport\u001b[39;00m \u001b[39m*\u001b[39m\n",
      "\u001b[0;31mImportError\u001b[0m: Initialization failed for ttkWRLExporter, not compatible with vtkmodules.vtkFiltersCore"
     ]
    }
   ],
   "source": [
    "p_curves = dataset.p_curves()"
   ]
  },
  {
   "cell_type": "code",
   "execution_count": null,
   "metadata": {},
   "outputs": [
    {
     "data": {
      "image/png": "[encoded data removed]",
      "text/plain": [
       "<Figure size 640x480 with 1 Axes>"
      ]
     },
     "metadata": {},
     "output_type": "display_data"
    }
   ],
   "source": [
    "rules = [(p_thresh, dict(color='red', label='Chosen threshold'))]\n",
    "\n",
    "fig, ax = plotter.plot_curve(list(p_curves.values()), rules=rules)\n",
    "\n",
    "ax.set_xlabel('Persistence')\n",
    "ax.set_ylabel('Number of Pairs')\n",
    "\n",
    "ax.set_title(f'{dataset.name.title()} Persistence Curve')\n",
    "\n",
    "\n",
    "plotter.save_fig(fig, output_path / 'figures' / f'{dataset.sanitized_name}_persistence_curves')"
   ]
  },
  {
   "cell_type": "markdown",
   "metadata": {},
   "source": [
    "### Compute Morse Complex"
   ]
  },
  {
   "cell_type": "code",
   "execution_count": null,
   "metadata": {},
   "outputs": [
    {
     "name": "stderr",
     "output_type": "stream",
     "text": [
      "[MemorizedFunc(func=<function make_morse_complex at 0x7f1987ae7670>, location=__mcpipeline_cache__/joblib)]: Clearing function cache identified by mcpipeline/topo/make_morse_complex\n"
     ]
    },
    {
     "name": "stdout",
     "output_type": "stream",
     "text": [
      "________________________________________________________________________________\n",
      "[Memory] Calling mcpipeline.topo.make_morse_complex...\n",
      "make_morse_complex(<mcpipeline.vtk.data.VTKData object at 0x7f1987a73040>, 0.1, ascending=True, scalar_field=None)\n"
     ]
    },
    {
     "ename": "ImportError",
     "evalue": "Initialization failed for ttkWRLExporter, not compatible with vtkmodules.vtkFiltersCore",
     "output_type": "error",
     "traceback": [
      "\u001b[0;31m---------------------------------------------------------------------------\u001b[0m",
      "\u001b[0;31mImportError\u001b[0m                               Traceback (most recent call last)",
      "Cell \u001b[0;32mIn[7], line 1\u001b[0m\n\u001b[0;32m----> 1\u001b[0m complexes \u001b[39m=\u001b[39m dataset\u001b[39m.\u001b[39;49mmorse_complexes(p_thresh)\n\u001b[1;32m      4\u001b[0m complexes\u001b[39m.\u001b[39msave(output_path \u001b[39m/\u001b[39m \u001b[39m'\u001b[39m\u001b[39mcomplexes\u001b[39m\u001b[39m'\u001b[39m \u001b[39m/\u001b[39m dataset\u001b[39m.\u001b[39msanitized_name)\n",
      "File \u001b[0;32m/workspaces/MCOpt/experiments/mcpipeline/mcpipeline/datasets/dataset.py:98\u001b[0m, in \u001b[0;36mDataset.morse_complexes\u001b[0;34m(self, persistence_threshold, ascending)\u001b[0m\n\u001b[1;32m     95\u001b[0m \u001b[39mdef\u001b[39;00m \u001b[39mmorse_complexes\u001b[39m(\n\u001b[1;32m     96\u001b[0m     \u001b[39mself\u001b[39m, persistence_threshold: \u001b[39mfloat\u001b[39m, ascending: \u001b[39mbool\u001b[39m \u001b[39m=\u001b[39m \u001b[39mTrue\u001b[39;00m\n\u001b[1;32m     97\u001b[0m ) \u001b[39m-\u001b[39m\u001b[39m>\u001b[39m Complexes:\n\u001b[0;32m---> 98\u001b[0m     \u001b[39mreturn\u001b[39;00m Complexes({\n\u001b[1;32m     99\u001b[0m         t: make_morse_complex(\n\u001b[1;32m    100\u001b[0m             dat,\n\u001b[1;32m    101\u001b[0m             persistence_threshold,\n\u001b[1;32m    102\u001b[0m             ascending\u001b[39m=\u001b[39mascending,\n\u001b[1;32m    103\u001b[0m             scalar_field\u001b[39m=\u001b[39m\u001b[39mself\u001b[39m\u001b[39m.\u001b[39mscalar_field_name,\n\u001b[1;32m    104\u001b[0m         )\n\u001b[1;32m    105\u001b[0m         \u001b[39mfor\u001b[39;00m t, dat \u001b[39min\u001b[39;00m \u001b[39mself\u001b[39m\u001b[39m.\u001b[39mitems()\n\u001b[1;32m    106\u001b[0m     })\n",
      "File \u001b[0;32m/workspaces/MCOpt/experiments/mcpipeline/mcpipeline/datasets/dataset.py:99\u001b[0m, in \u001b[0;36m<dictcomp>\u001b[0;34m(.0)\u001b[0m\n\u001b[1;32m     95\u001b[0m \u001b[39mdef\u001b[39;00m \u001b[39mmorse_complexes\u001b[39m(\n\u001b[1;32m     96\u001b[0m     \u001b[39mself\u001b[39m, persistence_threshold: \u001b[39mfloat\u001b[39m, ascending: \u001b[39mbool\u001b[39m \u001b[39m=\u001b[39m \u001b[39mTrue\u001b[39;00m\n\u001b[1;32m     97\u001b[0m ) \u001b[39m-\u001b[39m\u001b[39m>\u001b[39m Complexes:\n\u001b[1;32m     98\u001b[0m     \u001b[39mreturn\u001b[39;00m Complexes({\n\u001b[0;32m---> 99\u001b[0m         t: make_morse_complex(\n\u001b[1;32m    100\u001b[0m             dat,\n\u001b[1;32m    101\u001b[0m             persistence_threshold,\n\u001b[1;32m    102\u001b[0m             ascending\u001b[39m=\u001b[39;49mascending,\n\u001b[1;32m    103\u001b[0m             scalar_field\u001b[39m=\u001b[39;49m\u001b[39mself\u001b[39;49m\u001b[39m.\u001b[39;49mscalar_field_name,\n\u001b[1;32m    104\u001b[0m         )\n\u001b[1;32m    105\u001b[0m         \u001b[39mfor\u001b[39;00m t, dat \u001b[39min\u001b[39;00m \u001b[39mself\u001b[39m\u001b[39m.\u001b[39mitems()\n\u001b[1;32m    106\u001b[0m     })\n",
      "File \u001b[0;32m~/.venv/lib/python3.9/site-packages/joblib/memory.py:655\u001b[0m, in \u001b[0;36mMemorizedFunc.__call__\u001b[0;34m(self, *args, **kwargs)\u001b[0m\n\u001b[1;32m    654\u001b[0m \u001b[39mdef\u001b[39;00m \u001b[39m__call__\u001b[39m(\u001b[39mself\u001b[39m, \u001b[39m*\u001b[39margs, \u001b[39m*\u001b[39m\u001b[39m*\u001b[39mkwargs):\n\u001b[0;32m--> 655\u001b[0m     \u001b[39mreturn\u001b[39;00m \u001b[39mself\u001b[39;49m\u001b[39m.\u001b[39;49m_cached_call(args, kwargs)[\u001b[39m0\u001b[39m]\n",
      "File \u001b[0;32m~/.venv/lib/python3.9/site-packages/joblib/memory.py:598\u001b[0m, in \u001b[0;36mMemorizedFunc._cached_call\u001b[0;34m(self, args, kwargs, shelving)\u001b[0m\n\u001b[1;32m    595\u001b[0m     must_call \u001b[39m=\u001b[39m \u001b[39mTrue\u001b[39;00m\n\u001b[1;32m    597\u001b[0m \u001b[39mif\u001b[39;00m must_call:\n\u001b[0;32m--> 598\u001b[0m     out, metadata \u001b[39m=\u001b[39m \u001b[39mself\u001b[39;49m\u001b[39m.\u001b[39;49mcall(\u001b[39m*\u001b[39;49margs, \u001b[39m*\u001b[39;49m\u001b[39m*\u001b[39;49mkwargs)\n\u001b[1;32m    599\u001b[0m     \u001b[39mif\u001b[39;00m \u001b[39mself\u001b[39m\u001b[39m.\u001b[39mmmap_mode \u001b[39mis\u001b[39;00m \u001b[39mnot\u001b[39;00m \u001b[39mNone\u001b[39;00m:\n\u001b[1;32m    600\u001b[0m         \u001b[39m# Memmap the output at the first call to be consistent with\u001b[39;00m\n\u001b[1;32m    601\u001b[0m         \u001b[39m# later calls\u001b[39;00m\n\u001b[1;32m    602\u001b[0m         \u001b[39mif\u001b[39;00m \u001b[39mself\u001b[39m\u001b[39m.\u001b[39m_verbose:\n",
      "File \u001b[0;32m~/.venv/lib/python3.9/site-packages/joblib/memory.py:856\u001b[0m, in \u001b[0;36mMemorizedFunc.call\u001b[0;34m(self, *args, **kwargs)\u001b[0m\n\u001b[1;32m    854\u001b[0m \u001b[39mif\u001b[39;00m \u001b[39mself\u001b[39m\u001b[39m.\u001b[39m_verbose \u001b[39m>\u001b[39m \u001b[39m0\u001b[39m:\n\u001b[1;32m    855\u001b[0m     \u001b[39mprint\u001b[39m(format_call(\u001b[39mself\u001b[39m\u001b[39m.\u001b[39mfunc, args, kwargs))\n\u001b[0;32m--> 856\u001b[0m output \u001b[39m=\u001b[39m \u001b[39mself\u001b[39;49m\u001b[39m.\u001b[39;49mfunc(\u001b[39m*\u001b[39;49margs, \u001b[39m*\u001b[39;49m\u001b[39m*\u001b[39;49mkwargs)\n\u001b[1;32m    857\u001b[0m \u001b[39mself\u001b[39m\u001b[39m.\u001b[39mstore_backend\u001b[39m.\u001b[39mdump_item(\n\u001b[1;32m    858\u001b[0m     [func_id, args_id], output, verbose\u001b[39m=\u001b[39m\u001b[39mself\u001b[39m\u001b[39m.\u001b[39m_verbose)\n\u001b[1;32m    860\u001b[0m duration \u001b[39m=\u001b[39m time\u001b[39m.\u001b[39mtime() \u001b[39m-\u001b[39m start_time\n",
      "File \u001b[0;32m/workspaces/MCOpt/experiments/mcpipeline/mcpipeline/topo.py:45\u001b[0m, in \u001b[0;36mmake_morse_complex\u001b[0;34m(data, persistence_threshold, ascending, scalar_field)\u001b[0m\n\u001b[1;32m     38\u001b[0m \u001b[39m@cache\u001b[39m\u001b[39m.\u001b[39mcache\n\u001b[1;32m     39\u001b[0m \u001b[39mdef\u001b[39;00m \u001b[39mmake_morse_complex\u001b[39m(\n\u001b[1;32m     40\u001b[0m     data: VTKData,\n\u001b[0;32m   (...)\u001b[0m\n\u001b[1;32m     43\u001b[0m     scalar_field: Optional[\u001b[39mstr\u001b[39m] \u001b[39m=\u001b[39m \u001b[39mNone\u001b[39;00m,\n\u001b[1;32m     44\u001b[0m ) \u001b[39m-\u001b[39m\u001b[39m>\u001b[39m MorseComplex:\n\u001b[0;32m---> 45\u001b[0m     \u001b[39mfrom\u001b[39;00m \u001b[39mtopologytoolkit\u001b[39;00m \u001b[39mimport\u001b[39;00m ttkPersistenceDiagram, ttkTopologicalSimplification, ttkMorseSmaleComplex  \u001b[39m# type: ignore\u001b[39;00m\n\u001b[1;32m     47\u001b[0m     \u001b[39mdef\u001b[39;00m \u001b[39mset_input_array\u001b[39m(alg):\n\u001b[1;32m     48\u001b[0m         \u001b[39mif\u001b[39;00m scalar_field \u001b[39mis\u001b[39;00m \u001b[39mNone\u001b[39;00m:\n",
      "File \u001b[0;32m/usr/local/lib/python3.9/site-packages/topologytoolkit/__init__.py:2\u001b[0m\n\u001b[1;32m      1\u001b[0m \u001b[39mfrom\u001b[39;00m \u001b[39m__future__\u001b[39;00m \u001b[39mimport\u001b[39;00m absolute_import\n\u001b[0;32m----> 2\u001b[0m \u001b[39mfrom\u001b[39;00m \u001b[39m.\u001b[39;00m\u001b[39mttkWRLExporter\u001b[39;00m \u001b[39mimport\u001b[39;00m \u001b[39m*\u001b[39m\n\u001b[1;32m      3\u001b[0m \u001b[39mfrom\u001b[39;00m \u001b[39m.\u001b[39;00m\u001b[39mttkUserInterfaceBase\u001b[39;00m \u001b[39mimport\u001b[39;00m \u001b[39m*\u001b[39m\n\u001b[1;32m      4\u001b[0m \u001b[39mfrom\u001b[39;00m \u001b[39m.\u001b[39;00m\u001b[39mttkUncertainDataEstimator\u001b[39;00m \u001b[39mimport\u001b[39;00m \u001b[39m*\u001b[39m\n",
      "\u001b[0;31mImportError\u001b[0m: Initialization failed for ttkWRLExporter, not compatible with vtkmodules.vtkFiltersCore"
     ]
    }
   ],
   "source": [
    "complexes = dataset.morse_complexes(p_thresh)\n",
    "\n",
    "\n",
    "complexes.save(output_path / 'complexes' / dataset.sanitized_name)"
   ]
  },
  {
   "cell_type": "markdown",
   "metadata": {},
   "source": [
    "### Compute Morse Graph"
   ]
  }
 ],
 "metadata": {
  "kernelspec": {
   "display_name": ".venv",
   "language": "python",
   "name": "python3"
  },
  "language_info": {
   "codemirror_mode": {
    "name": "ipython",
    "version": 3
   },
   "file_extension": ".py",
   "mimetype": "text/x-python",
   "name": "python",
   "nbconvert_exporter": "python",
   "pygments_lexer": "ipython3",
   "version": "3.9.17"
  },
  "orig_nbformat": 4
 },
 "nbformat": 4,
 "nbformat_minor": 2
}
